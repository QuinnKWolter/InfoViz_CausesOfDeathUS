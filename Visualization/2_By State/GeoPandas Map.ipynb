{
 "cells": [
  {
   "cell_type": "code",
   "execution_count": 1,
   "metadata": {},
   "outputs": [
    {
     "ename": "ModuleNotFoundError",
     "evalue": "No module named 'geopandas'",
     "output_type": "error",
     "traceback": [
      "\u001b[1;31m---------------------------------------------------------------------------\u001b[0m",
      "\u001b[1;31mModuleNotFoundError\u001b[0m                       Traceback (most recent call last)",
      "\u001b[1;32m<ipython-input-1-1a9c5a51d861>\u001b[0m in \u001b[0;36m<module>\u001b[1;34m\u001b[0m\n\u001b[0;32m      1\u001b[0m \u001b[1;32mimport\u001b[0m \u001b[0mpandas\u001b[0m \u001b[1;32mas\u001b[0m \u001b[0mpd\u001b[0m\u001b[1;33m,\u001b[0m \u001b[0mnumpy\u001b[0m \u001b[1;32mas\u001b[0m \u001b[0mnp\u001b[0m\u001b[1;33m,\u001b[0m \u001b[0mmatplotlib\u001b[0m\u001b[1;33m.\u001b[0m\u001b[0mpyplot\u001b[0m \u001b[1;32mas\u001b[0m \u001b[0mplt\u001b[0m\u001b[1;33m\u001b[0m\u001b[1;33m\u001b[0m\u001b[0m\n\u001b[0;32m      2\u001b[0m \u001b[1;32mimport\u001b[0m \u001b[0mmatplotlib\u001b[0m\u001b[1;33m\u001b[0m\u001b[1;33m\u001b[0m\u001b[0m\n\u001b[1;32m----> 3\u001b[1;33m \u001b[1;32mimport\u001b[0m \u001b[0mgeopandas\u001b[0m \u001b[1;32mas\u001b[0m \u001b[0mgpd\u001b[0m\u001b[1;33m\u001b[0m\u001b[1;33m\u001b[0m\u001b[0m\n\u001b[0m",
      "\u001b[1;31mModuleNotFoundError\u001b[0m: No module named 'geopandas'"
     ]
    }
   ],
   "source": [
    "import pandas as pd, numpy as np, matplotlib.pyplot as plt\n",
    "import matplotlib\n",
    "import geopandas as gpd"
   ]
  },
  {
   "cell_type": "markdown",
   "metadata": {},
   "source": [
    "### US Map shapefile"
   ]
  },
  {
   "cell_type": "code",
   "execution_count": null,
   "metadata": {},
   "outputs": [],
   "source": [
    "shp = gpd.read_file(\"cb_2018_us_state/cb_2018_us_state_20m.shp\")"
   ]
  },
  {
   "cell_type": "code",
   "execution_count": null,
   "metadata": {},
   "outputs": [],
   "source": [
    "shp.head()"
   ]
  },
  {
   "cell_type": "code",
   "execution_count": null,
   "metadata": {
    "scrolled": false
   },
   "outputs": [],
   "source": [
    "shp[\"NAME\"].unique()"
   ]
  },
  {
   "cell_type": "code",
   "execution_count": null,
   "metadata": {},
   "outputs": [],
   "source": [
    "# remove Puerto Rico from geo dataframe\n",
    "shp = shp[shp[\"NAME\"]!=\"Puerto Rico\"]"
   ]
  },
  {
   "cell_type": "markdown",
   "metadata": {},
   "source": [
    "### Difference in Google/Actual Mortality\n",
    "and combine with shp data"
   ]
  },
  {
   "cell_type": "code",
   "execution_count": null,
   "metadata": {},
   "outputs": [],
   "source": [
    "diff = pd.read_csv(\"diff_by_state.csv\").drop(columns=[\"Unnamed: 0\"])\n",
    "diff.head()"
   ]
  },
  {
   "cell_type": "code",
   "execution_count": null,
   "metadata": {},
   "outputs": [],
   "source": [
    "df = shp.merge(diff, left_on=\"NAME\", right_on=\"State\")\n",
    "df.head()"
   ]
  },
  {
   "cell_type": "code",
   "execution_count": null,
   "metadata": {},
   "outputs": [],
   "source": [
    "# just continental US\n",
    "fig, ax = plt.subplots(figsize = (10,6))\n",
    "\n",
    "ax.set_xlim([-130,-65])\n",
    "ax.set_axis_off()\n",
    "ax.set(title='Alzheimer\\'s Disease\\nDifference in Interest vs. Mortality')\n",
    "\n",
    "df[(df[\"State\"]!=\"Alaska\") & (df[\"State\"]!=\"Hawaii\")].plot(column='Alzheimers', ax=ax, legend=True)\n",
    "\n",
    "plt.show()"
   ]
  },
  {
   "cell_type": "code",
   "execution_count": null,
   "metadata": {},
   "outputs": [],
   "source": [
    "# just Alaska\n",
    "fig, ax = plt.subplots(figsize = (10,6))\n",
    "df[df[\"NAME\"]==\"Alaska\"].plot(column='Alzheimers', ax=ax, legend=True)\n",
    "ax.set_xlim([-200,-100])\n",
    "ax.set_axis_off()\n",
    "print(fig, ax)"
   ]
  },
  {
   "cell_type": "code",
   "execution_count": null,
   "metadata": {},
   "outputs": [],
   "source": [
    "# just Hawaii\n",
    "fig, ax = plt.subplots(figsize = (10,6))\n",
    "df[df[\"NAME\"]==\"Hawaii\"].plot(column='Alzheimers', ax=ax, legend=True)\n",
    "ax.set_xlim([-165,-150])\n",
    "ax.set_axis_off()\n",
    "print(fig, ax)"
   ]
  },
  {
   "cell_type": "code",
   "execution_count": null,
   "metadata": {},
   "outputs": [],
   "source": [
    "# fig = plt.figure(figsize = (10,6))\n",
    "# outer_grid = fig.add_gridspec(1, 2, wspace=0, hspace=0, width_ratios=[1,2])\n",
    "\n",
    "# # populate left side\n",
    "# inner_grid_left = outer_grid[0,0].subgridspec(2, 1, wspace=0, hspace=0, height_ratios=[1,1])\n",
    "# axs_left = inner_grid_left.subplots()\n",
    "\n",
    "# # Alaska\n",
    "# df[df[\"NAME\"]==\"Alaska\"].plot(column='Alzheimers', ax=axs_left[0])\n",
    "# axs_left[0].set_xlim([-200,-110])\n",
    "# # axs_left[0].set_axis_off()\n",
    "\n",
    "# # Hawaii\n",
    "# df[df[\"NAME\"]==\"Hawaii\"].plot(column='Alzheimers', ax=axs_left[1])\n",
    "# axs_left[1].set_xlim([-165,-150])\n",
    "# # axs_left[1].set_axis_off()\n",
    "\n",
    "# # populate right side\n",
    "# inner_grid_right = outer_grid[0,1].subgridspec(1, 1, wspace=0, hspace=0)\n",
    "# axs_right = inner_grid_right.subplots()\n",
    "\n",
    "# # continental US\n",
    "# df[(df[\"State\"]!=\"Alaska\") & (df[\"State\"]!=\"Hawaii\")].plot(column='Alzheimers', ax=axs_right)\n",
    "# axs_right.set_xlim([-130,-65])\n",
    "# # axs_right.set_axis_off()\n",
    "\n",
    "# plt.show()"
   ]
  },
  {
   "cell_type": "code",
   "execution_count": null,
   "metadata": {},
   "outputs": [],
   "source": [
    "# example: Alzheimer's by state\n",
    "fig, axes = plt.subplot_mosaic(\n",
    "    [[\"A\", \"C\", \"C\", \"C\"],\n",
    "     [\"B\", \"C\", \"C\", \"C\"]],\n",
    "    figsize=(10,6)\n",
    ")\n",
    "\n",
    "# Alaska\n",
    "df.plot(column='Alzheimers', ax=axes[\"A\"])\n",
    "axes[\"A\"].set_xlim([-180,-129])\n",
    "axes[\"A\"].set_ylim([49,74])\n",
    "axes[\"A\"].set_title('Alaska')\n",
    "axes[\"A\"].set_axis_off()\n",
    "\n",
    "# Hawaii\n",
    "df.plot(column='Alzheimers', ax=axes[\"B\"])\n",
    "axes[\"B\"].set_xlim([-162,-153])\n",
    "axes[\"B\"].set_ylim([18,23])\n",
    "axes[\"B\"].set_title('Hawaii')\n",
    "axes[\"B\"].set_axis_off()\n",
    "\n",
    "# continental US\n",
    "df.plot(column='Alzheimers', ax=axes[\"C\"], legend=True)\n",
    "axes[\"C\"].set_xlim([-126,-65])\n",
    "axes[\"C\"].set_ylim([23,51])\n",
    "axes[\"C\"].set_title('Continental United States')\n",
    "axes[\"C\"].set_axis_off()\n",
    "\n",
    "# figure title\n",
    "fig.suptitle(\"Alzheimer's Disease\\nInterest vs. Actual Mortality\", fontsize=16)\n",
    "\n",
    "plt.subplots_adjust(wspace=0, hspace=0)\n",
    "plt.show()"
   ]
  },
  {
   "cell_type": "code",
   "execution_count": null,
   "metadata": {},
   "outputs": [],
   "source": [
    "# create cause list for naming each map\n",
    "cause_names = {\n",
    "    'Alzheimers':'Alzheimer\\'s Disease', \n",
    "    'CLRD':'Chronic Lower Respiratory Disease', \n",
    "    'Cancer':'Cancer', \n",
    "    'Diabetes':'Diabetes', \n",
    "    'Heart':'Heart Disease', \n",
    "    'Flu':'Flu',\n",
    "    'Kidney':'Kidney Disease', \n",
    "    'Stroke':'Stroke', \n",
    "    'Suicide':'Suicide', \n",
    "    'Accident':'Accidental Deaths'\n",
    "}\n"
   ]
  },
  {
   "cell_type": "code",
   "execution_count": null,
   "metadata": {
    "scrolled": false
   },
   "outputs": [],
   "source": [
    "# save each map by cause of death as png\n",
    "for col, cause in cause_names.items():\n",
    "    fig, axes = plt.subplot_mosaic(\n",
    "        [[\"A\", \"C\", \"C\", \"C\"],\n",
    "         [\"B\", \"C\", \"C\", \"C\"]],\n",
    "        figsize=(10,6)\n",
    "    )\n",
    "\n",
    "    # Alaska\n",
    "    df.plot(column=col, ax=axes[\"A\"])\n",
    "    axes[\"A\"].set_xlim([-180,-129])\n",
    "    axes[\"A\"].set_ylim([49,74])\n",
    "    axes[\"A\"].set_title('Alaska')\n",
    "    axes[\"A\"].set_axis_off()\n",
    "\n",
    "    # Hawaii\n",
    "    df.plot(column=col, ax=axes[\"B\"])\n",
    "    axes[\"B\"].set_xlim([-162,-153])\n",
    "    axes[\"B\"].set_ylim([18,23])\n",
    "    axes[\"B\"].set_title('Hawaii')\n",
    "    axes[\"B\"].set_axis_off()\n",
    "\n",
    "    # continental US\n",
    "    df.plot(column=col, ax=axes[\"C\"], legend=True)\n",
    "    axes[\"C\"].set_xlim([-126,-65])\n",
    "    axes[\"C\"].set_ylim([23,51])\n",
    "    axes[\"C\"].set_title('Continental United States')\n",
    "    axes[\"C\"].set_axis_off()\n",
    "\n",
    "    # figure title\n",
    "    fig.suptitle(f\"{cause}\\nInterest vs. Actual Mortality\", fontsize=16)\n",
    "\n",
    "    plt.subplots_adjust(wspace=0, hspace=0)\n",
    "    plt.savefig(f\"output_maps/{cause}_map.png\")\n",
    "    \n",
    "    print(f\"{cause} saved\")\n"
   ]
  },
  {
   "cell_type": "code",
   "execution_count": null,
   "metadata": {},
   "outputs": [],
   "source": []
  }
 ],
 "metadata": {
  "kernelspec": {
   "display_name": "Python 3",
   "language": "python",
   "name": "python3"
  },
  "language_info": {
   "codemirror_mode": {
    "name": "ipython",
    "version": 3
   },
   "file_extension": ".py",
   "mimetype": "text/x-python",
   "name": "python",
   "nbconvert_exporter": "python",
   "pygments_lexer": "ipython3",
   "version": "3.8.5"
  }
 },
 "nbformat": 4,
 "nbformat_minor": 5
}
